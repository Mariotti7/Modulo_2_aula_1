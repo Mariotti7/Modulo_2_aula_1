{
  "nbformat": 4,
  "nbformat_minor": 0,
  "metadata": {
    "colab": {
      "provenance": []
    },
    "kernelspec": {
      "name": "python3",
      "display_name": "Python 3"
    },
    "language_info": {
      "name": "python"
    }
  },
  "cells": [
    {
      "cell_type": "markdown",
      "source": [
        "\n",
        "\n",
        "> # Parte I\n",
        "\n"
      ],
      "metadata": {
        "id": "q06vMhaknH2x"
      }
    },
    {
      "cell_type": "code",
      "execution_count": null,
      "metadata": {
        "id": "Klq-P2NpZFcM"
      },
      "outputs": [],
      "source": [
        "import random\n",
        "\n",
        "numero_de_respostas = 150\n",
        "numeros = random.randint(0,10)\n",
        "temperatura_inicial = 30\n",
        "temperatura_final = 15\n",
        "\n",
        "def multiplicação(x):\n",
        "  conta = x * 5\n",
        "  return conta;\n",
        "\n",
        "lista = []\n",
        "lista.append(numero_de_respostas)\n",
        "lista.append(multiplicação(numeros))\n",
        "\n",
        "if lista[1] > 15:\n",
        "  print(f'O número {lista[1]} é maior que 15')\n",
        "else:\n",
        "  print(f'O número {lista[1]} não é menor que 15')\n",
        "\n",
        "while temperatura_inicial > temperatura_final:\n",
        "  temperatura_inicial = temperatura_inicial - 1;\n",
        "  print(f'A temperatura está em {temperatura_inicial}º graus')\n",
        "\n",
        "print(f'Dentro da minha lista tem os itens: {lista}')"
      ]
    },
    {
      "cell_type": "code",
      "source": [
        "pessoas = ['Luli', 'Lelo', 'Loui'], ['Lapras', 'Lepras']\n",
        "lugar = 0\n",
        "\n",
        "for lugares in pessoas :\n",
        "  print(f'Lugar {lugar}: {lugares}')\n",
        "  lugar+=1\n",
        "\n",
        "print(pessoas[0][2])"
      ],
      "metadata": {
        "colab": {
          "base_uri": "https://localhost:8080/"
        },
        "id": "nN8UkXpheHky",
        "outputId": "369bc585-411f-4271-d9c3-45b913d05cce"
      },
      "execution_count": null,
      "outputs": [
        {
          "output_type": "stream",
          "name": "stdout",
          "text": [
            "Lugar 0: ['Luli', 'Lelo', 'Loui']\n",
            "Lugar 1: ['Lapras', 'Lepras']\n",
            "Loui\n"
          ]
        }
      ]
    },
    {
      "cell_type": "code",
      "source": [
        "class Carro:\n",
        "  def __init__(self, marca, modelo, cor):\n",
        "    self.marca = marca\n",
        "    self.modelo = modelo\n",
        "    self.cor = cor\n",
        "\n",
        "  def descrever(self):\n",
        "    return f\"Carro: {self.marca}, {self.modelo}, {self.cor}\"\n",
        "\n",
        "carro_sonho = Carro('Maverick','Chevrolet','Preto')\n",
        "\n",
        "print(carro_sonho.descrever())\n"
      ],
      "metadata": {
        "colab": {
          "base_uri": "https://localhost:8080/"
        },
        "id": "3k-kCeIxgm_S",
        "outputId": "db81b2ec-00aa-4557-d859-eff737298905"
      },
      "execution_count": null,
      "outputs": [
        {
          "output_type": "stream",
          "name": "stdout",
          "text": [
            "Carro: Maverick, Chevrolet, Preto\n"
          ]
        }
      ]
    },
    {
      "cell_type": "markdown",
      "source": [
        "# PARTE II"
      ],
      "metadata": {
        "id": "76euQahnkVYS"
      }
    },
    {
      "cell_type": "code",
      "source": [
        "import numpy as np\n",
        "import random\n",
        "\n",
        "n1 = random.randint(0,10000)\n",
        "n2 = random.randint(0,10000)\n",
        "n3 = random.randint(0,10000)\n",
        "n4 = random.randint(0,10000)\n",
        "n5 = random.randint(0,10000)\n",
        "\n",
        "array = np.array([n1,n2,n3,n4,n5])\n",
        "\n",
        "print(f'Meu array: {array}')\n",
        "print(f'Meu array multiplicado por 3: {array * 3}')\n",
        "print(f'Meu array elevado ao quadrado: {array**2}')\n",
        "print(f'A média do meu array: {array.mean()}')\n"
      ],
      "metadata": {
        "colab": {
          "base_uri": "https://localhost:8080/"
        },
        "id": "_sEZ94vmkc1I",
        "outputId": "e183ff88-7afa-40cf-83ad-a883a860139e"
      },
      "execution_count": null,
      "outputs": [
        {
          "output_type": "stream",
          "name": "stdout",
          "text": [
            "Meu array: [7655  908 4227 9884 7653]\n",
            "Meu array multiplicado por 3: [22965  2724 12681 29652 22959]\n",
            "Meu array elevado ao quadrado: [58599025   824464 17867529 97693456 58568409]\n",
            "A média do meu array: 6065.4\n"
          ]
        }
      ]
    },
    {
      "cell_type": "markdown",
      "source": [
        "# Parte III"
      ],
      "metadata": {
        "id": "Zqd7OXhhnbfG"
      }
    },
    {
      "cell_type": "code",
      "source": [
        "import pandas as pd\n",
        "\n",
        "dados = {\n",
        "    'Nome' : ['Dwayne', 'Rock', 'Memphys'],\n",
        "    'Idade' : [50, 49, 34],\n",
        "    'Cidade' : ['Hawaí', 'Nashville', 'Dalla']\n",
        "}\n",
        "\n",
        "df = pd.DataFrame(dados)\n",
        "print(df)\n",
        "\n",
        "menor_50 = df[df['Idade'] < 50]\n",
        "print(f'\\nPessoas com menos de 50 anos: \\n{menor_50}')\n",
        "\n",
        "mora_no_interior = df[df['Cidade'] == 'Nashville']\n",
        "print(f'\\nPessoas que moram no interior: \\n{mora_no_interior}')\n",
        "\n",
        "df['Lucro'] = [19082, 47839, 139384]\n",
        "\n",
        "salario = df[df['Lucro'] > 48000]\n",
        "print(f'\\nPessoas que ganham mais que $48000: \\n {salario}')\n",
        "\n",
        "media_salario = df['Lucro'].mean()\n",
        "print(f'\\nA média do salário é: {media_salario.round()}')"
      ],
      "metadata": {
        "colab": {
          "base_uri": "https://localhost:8080/"
        },
        "id": "sjGKxelRnh8G",
        "outputId": "f505d9f2-9cc5-4554-d0bd-889cc8ee891e"
      },
      "execution_count": null,
      "outputs": [
        {
          "output_type": "stream",
          "name": "stdout",
          "text": [
            "      Nome  Idade     Cidade\n",
            "0   Dwayne     50      Hawaí\n",
            "1     Rock     49  Nashville\n",
            "2  Memphys     34      Dalla\n",
            "\n",
            "Pessoas com menos de 50 anos: \n",
            "      Nome  Idade     Cidade\n",
            "1     Rock     49  Nashville\n",
            "2  Memphys     34      Dalla\n",
            "\n",
            "Pessoas que moram no interior: \n",
            "   Nome  Idade     Cidade\n",
            "1  Rock     49  Nashville\n",
            "\n",
            "Pessoas que ganham mais que $48000: \n",
            "       Nome  Idade Cidade   Lucro\n",
            "2  Memphys     34  Dalla  139384\n",
            "\n",
            "A média do salário é: 68768.0\n"
          ]
        }
      ]
    },
    {
      "cell_type": "code",
      "source": [
        "import matplotlib.pyplot as plt\n",
        "\n",
        "nome=['Dwayne', 'Rock', 'Memphys', 'Lepras', 'Loli', 'Pop'],\n",
        "idade=[50, 49, 34, 13, 18, 98]\n",
        "\n",
        "##plt.bar(nome, idade)\n",
        "\n",
        "plt.title(\"Nome e Idade em forma de Título\")\n",
        "plt.xlabel(\"Nome\")\n",
        "plt.ylabel(\"Idade\")\n",
        "\n",
        "plt.show()\n"
      ],
      "metadata": {
        "colab": {
          "base_uri": "https://localhost:8080/",
          "height": 472
        },
        "id": "UF2A-gt-s9hj",
        "outputId": "e433f614-f7ae-4b91-8273-f369213efdae"
      },
      "execution_count": 1,
      "outputs": [
        {
          "output_type": "display_data",
          "data": {
            "text/plain": [
              "<Figure size 640x480 with 1 Axes>"
            ],
            "image/png": "[encoded data removed]"
          },
          "metadata": {}
        }
      ]
    }
  ]
}